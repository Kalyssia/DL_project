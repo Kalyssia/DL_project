{
 "cells": [
  {
   "cell_type": "markdown",
   "id": "8e8245e5",
   "metadata": {},
   "source": [
    "## Dependencies Setup"
   ]
  },
  {
   "cell_type": "code",
   "execution_count": 1,
   "id": "b4a2a67d",
   "metadata": {},
   "outputs": [
    {
     "name": "stderr",
     "output_type": "stream",
     "text": [
      "c:\\Users\\aurel\\anaconda3\\envs\\ULiege\\lib\\site-packages\\torchvision\\io\\image.py:14: UserWarning: Failed to load image Python extension: 'Could not find module 'C:\\Users\\aurel\\anaconda3\\envs\\ULiege\\Lib\\site-packages\\torchvision\\image.pyd' (or one of its dependencies). Try using the full path with constructor syntax.'If you don't plan on using image functionality from `torchvision.io`, you can ignore this warning. Otherwise, there might be something wrong with your environment. Did you have `libjpeg` or `libpng` installed before building `torchvision` from source?\n",
      "  warn(\n"
     ]
    }
   ],
   "source": [
    "import torch\n",
    "import torch.nn as nn\n",
    "import torch.optim as optim\n",
    "import torch.nn.functional as F\n",
    "from torchvision import transforms\n",
    "from torch.utils.data import TensorDataset, DataLoader, random_split\n",
    "import numpy as np\n",
    "import matplotlib.pyplot as plt\n",
    "import os"
   ]
  },
  {
   "cell_type": "markdown",
   "id": "b1fb462e",
   "metadata": {},
   "source": [
    "## Hyperparameter Configuration"
   ]
  },
  {
   "cell_type": "code",
   "execution_count": null,
   "id": "497e924a",
   "metadata": {},
   "outputs": [
    {
     "name": "stdout",
     "output_type": "stream",
     "text": [
      "Using device: cuda\n"
     ]
    }
   ],
   "source": [
    "DEVICE = torch.device(\"cuda\" if torch.cuda.is_available() else \"cpu\")\n",
    "print(f\"Using device: {DEVICE}\")\n",
    "\n",
    "BATCH_SIZE = 128\n",
    "EPOCHS = 10\n",
    "LR = 0.001\n",
    "LR_SCHEDULER_FACTOR = 0.5\n",
    "LR_SCHEDULER_PATIENCE = 3\n",
    "DATA_DIR = \"../data_tensors_10000\"\n",
    "OUTPUT_DIR = \"../models/model_big_10000.pt\""
   ]
  },
  {
   "cell_type": "markdown",
   "id": "60e1861e",
   "metadata": {},
   "source": [
    "## Define Transform for the Data"
   ]
  },
  {
   "cell_type": "code",
   "execution_count": 3,
   "id": "45a1651e",
   "metadata": {},
   "outputs": [],
   "source": [
    "# This is not used with the current dataset, as it is already in tensor format\n",
    "\n",
    "transform = transforms.Compose([\n",
    "\t#transforms.Grayscale(),\n",
    "\ttransforms.ToTensor(),\n",
    "\ttransforms.Normalize((0.5,), (0.5,))\n",
    "])"
   ]
  },
  {
   "cell_type": "markdown",
   "id": "98116018",
   "metadata": {},
   "source": [
    "## Dataset Setup"
   ]
  },
  {
   "cell_type": "code",
   "execution_count": 4,
   "id": "c83c42b2",
   "metadata": {},
   "outputs": [],
   "source": [
    "# Load all .npy files from \"data_npy\", assume each file is one class\n",
    "data_dir = DATA_DIR\n",
    "class_files = sorted(f for f in os.listdir(data_dir) if f.endswith(\".npy\"))\n",
    "all_data, all_labels = [], []\n",
    "\n",
    "for label_idx, fname in enumerate(class_files):\n",
    "    arr = np.load(os.path.join(data_dir, fname))       # shape (N, H, W)\n",
    "    arr = arr[:, None, :, :]   # add channel dimension (N, 1, H, W)\n",
    "    all_data.append(arr)\n",
    "    all_labels.append(np.full(arr.shape[0], label_idx))\n",
    "\n",
    "all_data = np.concatenate(all_data, axis=0)             # (total_samples, C, H, W)\n",
    "all_labels = np.concatenate(all_labels, axis=0)         # (total_samples,)\n",
    "\n",
    "# Create a TensorDataset\n",
    "dataset = TensorDataset(torch.from_numpy(all_data).float(), torch.from_numpy(all_labels).long())"
   ]
  },
  {
   "cell_type": "code",
   "execution_count": 5,
   "id": "1a49bf1f",
   "metadata": {},
   "outputs": [
    {
     "name": "stderr",
     "output_type": "stream",
     "text": [
      "C:\\Users\\aurel\\AppData\\Local\\Temp\\ipykernel_5148\\637969883.py:9: FutureWarning: You are using `torch.load` with `weights_only=False` (the current default value), which uses the default pickle module implicitly. It is possible to construct malicious pickle data which will execute arbitrary code during unpickling (See https://github.com/pytorch/pytorch/blob/main/SECURITY.md#untrusted-models for more details). In a future release, the default value for `weights_only` will be flipped to `True`. This limits the functions that could be executed during unpickling. Arbitrary objects will no longer be allowed to be loaded via this mode unless they are explicitly allowlisted by the user via `torch.serialization.add_safe_globals`. We recommend you start setting `weights_only=True` for any use case where you don't have full control of the loaded file. Please open an issue on GitHub for any issues related to this experimental feature.\n",
      "  tensor = torch.load(os.path.join(data_dir, fname))  # shape: (N, C, H, W)\n"
     ]
    }
   ],
   "source": [
    "# Directory containing the .pt files, one per class\n",
    "data_dir = DATA_DIR\n",
    "class_files = sorted(f for f in os.listdir(data_dir) if f.endswith(\".pt\"))\n",
    "\n",
    "all_data, all_labels = [], []\n",
    "\n",
    "for label_idx, fname in enumerate(class_files):\n",
    "    # Load the tensor that contains all the samples for this class\n",
    "    tensor = torch.load(os.path.join(data_dir, fname))  # shape: (N, C, H, W)    \n",
    "    all_data.append(tensor)\n",
    "    # Create a label vector of the same size\n",
    "    labels = torch.full((tensor.size(0),), label_idx, dtype=torch.long)\n",
    "    all_labels.append(labels)\n",
    "\n",
    "# Concatenate all classes into a single large tensor\n",
    "all_data   = torch.cat(all_data,   dim=0)  # (total_samples, C, H, W)\n",
    "all_labels = torch.cat(all_labels, dim=0)  # (total_samples,)\n",
    "\n",
    "# Create the TensorDataset\n",
    "dataset = TensorDataset(all_data.float(), all_labels)\n"
   ]
  },
  {
   "cell_type": "code",
   "execution_count": 6,
   "id": "7cdcf8fd",
   "metadata": {},
   "outputs": [
    {
     "name": "stdout",
     "output_type": "stream",
     "text": [
      "Number of classes: 345\n",
      "Total size: 3450000\n",
      "Train: 2415000\t Val: 345000\t Test: 690000\n",
      "Image batch shape: torch.Size([128, 1, 28, 28])\n",
      "Label batch shape: torch.Size([128])\n"
     ]
    }
   ],
   "source": [
    "num_classes = len(class_files)\n",
    "print(f\"Number of classes: {num_classes}\")\n",
    "\n",
    "# Split into train/val/test\n",
    "total_size = len(dataset)\n",
    "train_size = int(0.7 * total_size)\n",
    "val_size   = int(0.1 * total_size)\n",
    "test_size  = total_size - train_size - val_size\n",
    "\n",
    "print(f\"Total size: {total_size}\")\n",
    "print(f\"Train: {train_size}\\t Val: {val_size}\\t Test: {test_size}\")\n",
    "\n",
    "train_dataset, val_dataset, test_dataset = random_split(dataset, [train_size, val_size, test_size])\n",
    "\n",
    "# DataLoader parameters\n",
    "NUM_WORKERS = 7\n",
    "\n",
    "train_loader = DataLoader(train_dataset, batch_size=BATCH_SIZE, shuffle=True, num_workers=NUM_WORKERS, pin_memory=True)\n",
    "val_loader = DataLoader(val_dataset, batch_size=BATCH_SIZE, shuffle=False, num_workers=NUM_WORKERS, pin_memory=True)\n",
    "test_loader = DataLoader(test_dataset, batch_size=BATCH_SIZE, shuffle=False, num_workers=NUM_WORKERS, pin_memory=True)\n",
    "\n",
    "\n",
    "with open(\"../all_classes.txt\", \"r\") as f:\n",
    "    CLASSES = [line.strip() for line in f]\n",
    "# Show the shape of one sample from the dataset\n",
    "for images, labels in test_loader:\n",
    "    print(f\"Image batch shape: {images.size()}\")\n",
    "    print(f\"Label batch shape: {labels.size()}\")\n",
    "    # Show the first image and label\n",
    "    print(\"Example image:\")\n",
    "    plt.imshow(images[0, 0].cpu().numpy(), cmap='gray')\n",
    "    plt.title(f\"Label: {CLASSES[labels[0].item()]}\")\n",
    "    plt.axis('off')\n",
    "    plt.show()\n",
    "    break"
   ]
  },
  {
   "cell_type": "markdown",
   "id": "8297ad22",
   "metadata": {},
   "source": [
    "## Model Definition"
   ]
  },
  {
   "cell_type": "code",
   "execution_count": 7,
   "id": "d021dde9",
   "metadata": {},
   "outputs": [],
   "source": [
    "class SimpleCNN(nn.Module):\n",
    "\tdef __init__(self, num_classes=10):\n",
    "\t\tsuper().__init__()\n",
    "\t\tself.conv1 = nn.Conv2d(1, 32, 3)\n",
    "\t\tself.pool = nn.MaxPool2d(2)\n",
    "\t\tself.conv2 = nn.Conv2d(32, 64, 3)\n",
    "\t\tself.fc1 = nn.Linear(64 * 5 * 5, 128)\n",
    "\t\tself.fc2 = nn.Linear(128, num_classes)\n",
    "\t\t\n",
    "\tdef forward(self, x):\n",
    "\t\tx = self.pool(F.relu(self.conv1(x)))\n",
    "\t\tx = self.pool(F.relu(self.conv2(x)))\n",
    "\t\tx = x.view(-1, 64 * 5 * 5)\n",
    "\t\tx = F.relu(self.fc1(x))\n",
    "\t\treturn self.fc2(x)\n",
    "\n",
    "\n",
    "class BiggerCNN(nn.Module):\n",
    "    def __init__(self, num_classes):\n",
    "        super().__init__()\n",
    "        self.conv1 = nn.Conv2d(1, 32, kernel_size=3, padding=1)\n",
    "        self.conv2 = nn.Conv2d(32, 64, kernel_size=3, padding=1)\n",
    "        self.pool = nn.MaxPool2d(2, 2)\n",
    "        self.conv3 = nn.Conv2d(64, 128, kernel_size=3, padding=1)\n",
    "        self.conv4 = nn.Conv2d(128, 128, kernel_size=3, padding=1)\n",
    "\n",
    "        with torch.no_grad():\n",
    "            dummy = torch.zeros(1, 1, 28, 28)\n",
    "            out = self.pool(F.relu(self.conv2(F.relu(self.conv1(dummy)))))\n",
    "            out = self.pool(F.relu(self.conv4(F.relu(self.conv3(out)))))\n",
    "            self.flattened_size = out.view(1, -1).size(1)\n",
    "\n",
    "        self.fc1 = nn.Linear(self.flattened_size, 256)\n",
    "        self.dropout = nn.Dropout(0.5)\n",
    "        self.fc2 = nn.Linear(256, num_classes)\n",
    "\n",
    "    def forward(self, x):\n",
    "        x = F.relu(self.conv1(x))\n",
    "        x = self.pool(F.relu(self.conv2(x)))\n",
    "        x = F.relu(self.conv3(x))\n",
    "        x = self.pool(F.relu(self.conv4(x)))\n",
    "        x = x.view(x.size(0), -1)\n",
    "        x = self.dropout(F.relu(self.fc1(x)))\n",
    "        return self.fc2(x)"
   ]
  },
  {
   "cell_type": "code",
   "execution_count": null,
   "id": "521bc050",
   "metadata": {},
   "outputs": [],
   "source": [
    "class ResidualBlock(nn.Module):\n",
    "    def __init__(self, in_channels, out_channels, downsample=False):\n",
    "        super().__init__()\n",
    "        stride = 2 if downsample else 1\n",
    "        self.conv1 = nn.Conv2d(in_channels, out_channels, kernel_size=3,\n",
    "                               stride=stride, padding=1, bias=False)\n",
    "        self.bn1   = nn.BatchNorm2d(out_channels)\n",
    "        self.conv2 = nn.Conv2d(out_channels, out_channels, kernel_size=3,\n",
    "                               stride=1, padding=1, bias=False)\n",
    "        self.bn2   = nn.BatchNorm2d(out_channels)\n",
    "        self.downsample = downsample\n",
    "        if downsample or in_channels != out_channels:\n",
    "            self.residual = nn.Sequential(\n",
    "                nn.Conv2d(in_channels, out_channels, kernel_size=1,\n",
    "                          stride=stride, bias=False),\n",
    "                nn.BatchNorm2d(out_channels)\n",
    "            )\n",
    "        else:\n",
    "            self.residual = nn.Identity()\n",
    "\n",
    "    def forward(self, x):\n",
    "        identity = self.residual(x)\n",
    "        out = F.relu(self.bn1(self.conv1(x)))\n",
    "        out = self.bn2(self.conv2(out))\n",
    "        out += identity\n",
    "        return F.relu(out)\n",
    "\n",
    "class QuickDrawCNN(nn.Module):\n",
    "    def __init__(self, num_classes=345):\n",
    "        super().__init__()\n",
    "        # Stem\n",
    "        self.stem = nn.Sequential(\n",
    "            nn.Conv2d(1, 64, kernel_size=3, stride=1, padding=1, bias=False),\n",
    "            nn.BatchNorm2d(64),\n",
    "            nn.ReLU(inplace=True)\n",
    "        )\n",
    "        # Bloques residuales\n",
    "        self.layer1 = self._make_layer(64, 128, num_blocks=2, downsample=True)\n",
    "        self.layer2 = self._make_layer(128, 256, num_blocks=2, downsample=True)\n",
    "        self.layer3 = self._make_layer(256, 512, num_blocks=2, downsample=True)\n",
    "        # Clasificador\n",
    "        self.avgpool = nn.AdaptiveAvgPool2d((1,1))\n",
    "        self.dropout = nn.Dropout(p=0.5)\n",
    "        self.fc      = nn.Linear(512, num_classes)\n",
    "\n",
    "        # Inicialización\n",
    "        for m in self.modules():\n",
    "            if isinstance(m, nn.Conv2d):\n",
    "                nn.init.kaiming_normal_(m.weight, mode='fan_out', nonlinearity='relu')\n",
    "            elif isinstance(m, nn.BatchNorm2d):\n",
    "                nn.init.constant_(m.weight, 1)\n",
    "                nn.init.constant_(m.bias, 0)\n",
    "\n",
    "    def _make_layer(self, in_c, out_c, num_blocks, downsample):\n",
    "        layers = []\n",
    "        layers.append(ResidualBlock(in_c, out_c, downsample=downsample))\n",
    "        for _ in range(1, num_blocks):\n",
    "            layers.append(ResidualBlock(out_c, out_c))\n",
    "        return nn.Sequential(*layers)\n",
    "\n",
    "    def forward(self, x):\n",
    "        x = self.stem(x)          # [N, 64, 28, 28]\n",
    "        x = self.layer1(x)        # [N,128,14,14]\n",
    "        x = self.layer2(x)        # [N,256,7,7]\n",
    "        x = self.layer3(x)        # [N,512,4,4] (gracias al padding)\n",
    "        x = self.avgpool(x)       # [N,512,1,1]\n",
    "        x = torch.flatten(x, 1)   # [N,512]\n",
    "        x = self.dropout(x)\n",
    "        logits = self.fc(x)       # [N,345]\n",
    "        return logits\n"
   ]
  },
  {
   "cell_type": "markdown",
   "id": "376af01f",
   "metadata": {},
   "source": [
    "## Training"
   ]
  },
  {
   "cell_type": "code",
   "execution_count": 8,
   "id": "76e005d3",
   "metadata": {},
   "outputs": [],
   "source": [
    "def evaluate_model(model, loader, criterion, device):\n",
    "    model.eval()\n",
    "    losses, correct, total = [], 0, 0\n",
    "\n",
    "    with torch.no_grad():\n",
    "        for x, y in loader:\n",
    "            x, y = x.to(device), y.to(device)\n",
    "            outputs = model(x)\n",
    "            loss = criterion(outputs, y)\n",
    "            losses.append(loss.item())\n",
    "            preds = outputs.argmax(dim=1)\n",
    "            correct += (preds == y).sum().item()\n",
    "            total += y.size(0)\n",
    "\n",
    "    avg_loss = np.mean(losses)\n",
    "    accuracy = correct / total\n",
    "    return avg_loss, accuracy"
   ]
  },
  {
   "cell_type": "code",
   "execution_count": null,
   "id": "4c6aae61",
   "metadata": {},
   "outputs": [
    {
     "name": "stderr",
     "output_type": "stream",
     "text": [
      "c:\\Users\\aurel\\anaconda3\\envs\\ULiege\\lib\\site-packages\\torch\\optim\\lr_scheduler.py:62: UserWarning: The verbose parameter is deprecated. Please use get_last_lr() to access the learning rate.\n",
      "  warnings.warn(\n"
     ]
    },
    {
     "name": "stdout",
     "output_type": "stream",
     "text": [
      "Starting training...\n",
      "Epoch 1/10\t Train Loss: 2.7839\t Validation Loss: 1.8695\t Validation Accuracy: 0.5645\n",
      "Epoch 2/10\t Train Loss: 2.3055\t Validation Loss: 1.7463\t Validation Accuracy: 0.5946\n",
      "Epoch 3/10\t Train Loss: 2.1855\t Validation Loss: 1.6779\t Validation Accuracy: 0.6046\n",
      "Epoch 4/10\t Train Loss: 2.1302\t Validation Loss: 1.6612\t Validation Accuracy: 0.6103\n",
      "Epoch 5/10\t Train Loss: 2.0943\t Validation Loss: 1.6434\t Validation Accuracy: 0.6138\n",
      "Epoch 6/10\t Train Loss: 2.0699\t Validation Loss: 1.6223\t Validation Accuracy: 0.6181\n",
      "Epoch 7/10\t Train Loss: 2.0507\t Validation Loss: 1.6023\t Validation Accuracy: 0.6206\n",
      "Epoch 8/10\t Train Loss: 2.0393\t Validation Loss: 1.6089\t Validation Accuracy: 0.6197\n",
      "Epoch 9/10\t Train Loss: 2.0290\t Validation Loss: 1.5972\t Validation Accuracy: 0.6245\n",
      "Epoch 10/10\t Train Loss: 2.0191\t Validation Loss: 1.5929\t Validation Accuracy: 0.6226\n",
      "Training complete.\n"
     ]
    }
   ],
   "source": [
    "model = QuickDrawCNN(num_classes=num_classes).to(DEVICE)\n",
    "criterion = nn.CrossEntropyLoss()\n",
    "optimizer = optim.Adam(model.parameters(), lr=LR, weight_decay=1e-4)\n",
    "scheduler = torch.optim.lr_scheduler.ReduceLROnPlateau(optimizer, mode='min', factor=LR_SCHEDULER_FACTOR, patience=LR_SCHEDULER_PATIENCE, verbose=True)\n",
    "\n",
    "# Training loop\n",
    "def train_cnn(num_epochs):\n",
    "    print(\"Starting training...\")\n",
    "\n",
    "    train_loss_history, val_loss_history, val_accuracy_history = [], [], []\n",
    "\n",
    "    for epoch in range(num_epochs):\n",
    "        # Training\n",
    "        model.train()\n",
    "        train_losses = []\n",
    "        for x, y in train_loader:\n",
    "            x, y = x.to(DEVICE), y.to(DEVICE)\n",
    "\n",
    "            optimizer.zero_grad()\n",
    "            outputs = model(x)\n",
    "            loss = criterion(outputs, y)\n",
    "            train_losses.append(loss.item())\n",
    "            loss.backward()\n",
    "            optimizer.step()\n",
    "\n",
    "        avg_train_loss = np.mean(train_losses)\n",
    "        train_loss_history.append(avg_train_loss)\n",
    "        \n",
    "        # Validation\n",
    "        avg_val_loss, accuracy = evaluate_model(model, val_loader, criterion, DEVICE)\n",
    "\n",
    "        val_loss_history.append(avg_val_loss)\n",
    "        val_accuracy_history.append(accuracy)\n",
    "\n",
    "        # Adjust learning rate\n",
    "        scheduler.step(avg_val_loss)\n",
    "\n",
    "        # Print statistics\n",
    "        print(f\"Epoch {epoch+1}/{num_epochs}\\t Train Loss: {avg_train_loss:.4f}\\t Validation Loss: {avg_val_loss:.4f}\\t Validation Accuracy: {accuracy:.4f}\")\n",
    "\n",
    "    print(\"Training complete.\")\n",
    "    # Save the model\n",
    "    torch.save(model.state_dict(), OUTPUT_DIR)\n",
    "    return train_loss_history, val_loss_history, val_accuracy_history\n",
    "\n",
    "train_losses, val_losses, val_accuracies = train_cnn(EPOCHS)"
   ]
  },
  {
   "cell_type": "code",
   "execution_count": 10,
   "id": "db2c43b2",
   "metadata": {},
   "outputs": [
    {
     "data": {
      "image/png": "[encoded data removed]",
      "text/plain": [
       "<Figure size 1200x500 with 2 Axes>"
      ]
     },
     "metadata": {},
     "output_type": "display_data"
    }
   ],
   "source": [
    "# Plot the results\n",
    "plt.figure(figsize=(12, 5))\n",
    "plt.subplot(1,2,1)\n",
    "plt.plot(train_losses, label=\"Train Loss\")\n",
    "plt.plot(val_losses, label=\"Validation Loss\")\n",
    "plt.xlabel(\"Epoch\")\n",
    "plt.ylabel(\"Loss\")\n",
    "plt.title(\"Loss Evolution\")\n",
    "plt.legend()\n",
    "\n",
    "plt.subplot(1,2,2)\n",
    "plt.plot(val_accuracies, label=\"Validation Accuracy\")\n",
    "plt.xlabel(\"Epoch\")\n",
    "plt.ylabel(\"Accuracy\")\n",
    "plt.title(\"Accuracy Evolution\")\n",
    "plt.legend()\n",
    "plt.tight_layout()\n",
    "plt.show()"
   ]
  },
  {
   "cell_type": "markdown",
   "id": "93ccc27a",
   "metadata": {},
   "source": [
    "## Test"
   ]
  },
  {
   "cell_type": "code",
   "execution_count": 11,
   "id": "c7474d7f",
   "metadata": {},
   "outputs": [
    {
     "name": "stdout",
     "output_type": "stream",
     "text": [
      "Test Accuracy: 62.31%\n"
     ]
    }
   ],
   "source": [
    "from sklearn.metrics import confusion_matrix, ConfusionMatrixDisplay\n",
    "import matplotlib.pyplot as plt\n",
    "\n",
    "with open(\"../all_classes.txt\", \"r\") as f:\n",
    "    CLASSES = [line.strip() for line in f]\n",
    "\n",
    "model.eval()\n",
    "\n",
    "total = 0\n",
    "correct = 0\n",
    "all_preds = []\n",
    "all_labels = []\n",
    "\n",
    "with torch.no_grad():\n",
    "    for images, labels in test_loader:\n",
    "        images, labels = images.to(DEVICE), labels.to(DEVICE)\n",
    "        outputs = model(images)\n",
    "        _, predicted = torch.max(outputs, 1)\n",
    "        total += labels.size(0)\n",
    "        correct += (predicted == labels).sum().item()\n",
    "        all_preds.extend(predicted.cpu().numpy())\n",
    "        all_labels.extend(labels.cpu().numpy())\n",
    "\n",
    "accuracy = 100 * correct / total\n",
    "print(f\"Test Accuracy: {accuracy:.2f}%\")\n",
    "\n",
    "# cm = confusion_matrix(all_labels, all_preds)\n",
    "# disp = ConfusionMatrixDisplay(confusion_matrix=cm, display_labels=CLASSES)\n",
    "# disp.plot(xticks_rotation=45, cmap=\"Blues\")\n",
    "# plt.tight_layout()\n",
    "# plt.show()"
   ]
  }
 ],
 "metadata": {
  "kernelspec": {
   "display_name": "ULiege",
   "language": "python",
   "name": "python3"
  },
  "language_info": {
   "codemirror_mode": {
    "name": "ipython",
    "version": 3
   },
   "file_extension": ".py",
   "mimetype": "text/x-python",
   "name": "python",
   "nbconvert_exporter": "python",
   "pygments_lexer": "ipython3",
   "version": "3.10.13"
  }
 },
 "nbformat": 4,
 "nbformat_minor": 5
}
